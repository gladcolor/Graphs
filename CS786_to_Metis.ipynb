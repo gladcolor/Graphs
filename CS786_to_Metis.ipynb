{
 "cells": [
  {
   "cell_type": "markdown",
   "metadata": {},
   "source": [
    "#  input the file name"
   ]
  },
  {
   "cell_type": "code",
   "execution_count": 119,
   "metadata": {},
   "outputs": [],
   "source": [
    "import os\n",
    "name = r'sample_rand_1m'\n",
    "file_name =     r'K:\\OneDrive_NJIT\\OneDrive - NJIT\\Courses\\CS786\\0405\\{}.gr'.replace(\"{}\", name)\n",
    "new_file_name = r'K:\\OneDrive_NJIT\\OneDrive - NJIT\\Courses\\CS786\\0405\\{}.metis'.replace(\"{}\", name)\n",
    "\n",
    "\n",
    "# refer to METIS GRAPH Files\n",
    "# https://people.sc.fsu.edu/~jburkardt/data/metis_graph/metis_graph.html\n"
   ]
  },
  {
   "cell_type": "markdown",
   "metadata": {},
   "source": [
    "# run the code"
   ]
  },
  {
   "cell_type": "code",
   "execution_count": null,
   "metadata": {},
   "outputs": [
    {
     "name": "stdout",
     "output_type": "stream",
     "text": [
      "n, m:  1048576 10454932\n"
     ]
    }
   ],
   "source": [
    " \n",
    "with open(file_name, 'r') as r:\n",
    "    with open(new_file_name, 'w') as w:\n",
    "        for i in range(7):\n",
    "            values = r.readline().replace(\"\\n\", '').split(' ')\n",
    "            \n",
    "        values = r.readline().replace(\"\\n\", '').split(' ')\n",
    "        n = values[2]  # number of vertices\n",
    "        m = values[3]  # number of edge\n",
    "        print(\"n, m: \", n, m )\n",
    "        m_2 = int(int(m)/2)\n",
    "        w.writelines(f\"{n} {m_2}\\n\")\n",
    "        \n",
    "        # get edges\n",
    "        lines = r.readlines()\n",
    "        # print(lines)\n",
    "        i = 0\n",
    "        w_line = ''  # new line to be written to new file\n",
    "        last_v = ''\n",
    "        w_line = w_line + last_v\n",
    "        \n",
    "        w_lines = [\" \"] * int(n)\n",
    " \n",
    "        \n",
    "        while i < len(lines) :\n",
    "            values = lines[i].replace(\"\\n\", '').split(' ')\n",
    "            \n",
    "            \n",
    "            v = int(values[1])\n",
    "            # print(values[1], values[2])\n",
    "            \n",
    "            w_lines[v-1] = w_lines[v-1] + \" \" + values[2]\n",
    "             \n",
    "                \n",
    "            i = i + 1\n",
    "            \n",
    "        for i in range(int(n)):\n",
    "            w.writelines(w_lines[i] + \"\\n\")\n",
    "            \n",
    "        "
   ]
  },
  {
   "cell_type": "markdown",
   "metadata": {},
   "source": [
    "# Do not use the code below"
   ]
  },
  {
   "cell_type": "code",
   "execution_count": 109,
   "metadata": {},
   "outputs": [],
   "source": [
    "# for R-MAT graph with empty vertices."
   ]
  },
  {
   "cell_type": "code",
   "execution_count": null,
   "metadata": {},
   "outputs": [],
   "source": [
    "\n",
    "\n",
    "with open(file_name, 'r') as r:\n",
    "    with open(new_file_name, 'w') as w:\n",
    "        for i in range(7):\n",
    "            values = r.readline().replace(\"\\n\", '').split(' ')\n",
    "            \n",
    "        values = r.readline().replace(\"\\n\", '').split(' ')\n",
    "        n = values[2]  # number of vertices\n",
    "        m = values[3]  # number of edge\n",
    "        print(\"n, m: \", n, m )\n",
    "        w.writelines(f\"{n} {m}\\n\")\n",
    "        \n",
    "        # get edges\n",
    "        lines = r.readlines()\n",
    "        # print(lines)\n",
    "        i = 0\n",
    "        w_line = ''  # new line to be written to new file\n",
    "        last_v = ''\n",
    "        w_line = w_line + last_v\n",
    "        \n",
    "        w_lines = [\" \"] * int(n)\n",
    " \n",
    "        \n",
    "        while i < len(lines) :\n",
    "            values = lines[i].replace(\"\\n\", '').split(' ')\n",
    "            \n",
    "            \n",
    "            v = int(values[1])\n",
    "            # print(values[1], values[2])\n",
    "            \n",
    "            w_lines[v-1] = w_lines[v-1] + \" \" + values[2]\n",
    "             \n",
    "                \n",
    "            i = i + 1\n",
    "            \n",
    "        for i in range(int(n)):\n",
    "            w.writelines(w_lines[i] + \"\\n\")\n",
    "            \n",
    "        "
   ]
  },
  {
   "cell_type": "code",
   "execution_count": null,
   "metadata": {},
   "outputs": [
    {
     "name": "stdout",
     "output_type": "stream",
     "text": [
      "n, m:  1048576 10454932\n"
     ]
    }
   ],
   "source": [
    "with open(file_name, 'r') as r:\n",
    "    with open(new_file_name, 'w') as w:\n",
    "        for i in range(7):\n",
    "            values = r.readline().replace(\"\\n\", '').split(' ')\n",
    "            \n",
    "        values = r.readline().replace(\"\\n\", '').split(' ')\n",
    "        n = values[2]  # number of vertices\n",
    "        m = values[3]  # number of edge\n",
    "        print(\"n, m: \", n, m )\n",
    "        w.writelines(f\"{n} {m}\\n\")\n",
    "        \n",
    "        # get edges\n",
    "        lines = r.readlines()\n",
    "        # print(lines)\n",
    "        i = 0\n",
    "        w_line = ''  # new line to be written to new file\n",
    "        last_v = ''\n",
    "        w_line = w_line + last_v\n",
    "        \n",
    "        w_lines = [] * int(n)\n",
    " \n",
    "        \n",
    "        while i < len(lines) :\n",
    "            values = lines[i].replace(\"\\n\", '').split(' ')\n",
    "            \n",
    "            \n",
    "            v = values[1]\n",
    "            # print(values[1], values[2])\n",
    "            \n",
    "            if v != last_v:\n",
    "                if last_v == \"\":\n",
    "                    last_v = v\n",
    "                    w_line = \" \" + v \n",
    "                else:\n",
    "                    w.writelines(w_line + \"\\n\")\n",
    "                    w_line = \" \" + v\n",
    "                    \n",
    "            if i == len(lines) - 1:\n",
    "                w.writelines(w_line + \"\\n\")\n",
    "                \n",
    "            w_line += \" \" + values[2]\n",
    "            \n",
    "            #print(values, \" \", values[2])\n",
    "                \n",
    "            last_v = values[1]\n",
    "            # print(last_v)\n",
    "            \n",
    "            #print(lines[i], values)\n",
    "                \n",
    "            i = i + 1\n",
    "            \n",
    "        "
   ]
  },
  {
   "cell_type": "code",
   "execution_count": null,
   "metadata": {},
   "outputs": [],
   "source": []
  }
 ],
 "metadata": {
  "kernelspec": {
   "display_name": "Python 3",
   "language": "python",
   "name": "python3"
  },
  "language_info": {
   "codemirror_mode": {
    "name": "ipython",
    "version": 3
   },
   "file_extension": ".py",
   "mimetype": "text/x-python",
   "name": "python",
   "nbconvert_exporter": "python",
   "pygments_lexer": "ipython3",
   "version": "3.7.4"
  },
  "toc": {
   "base_numbering": 1,
   "nav_menu": {},
   "number_sections": true,
   "sideBar": true,
   "skip_h1_title": false,
   "title_cell": "Table of Contents",
   "title_sidebar": "Contents",
   "toc_cell": false,
   "toc_position": {},
   "toc_section_display": true,
   "toc_window_display": false
  },
  "varInspector": {
   "cols": {
    "lenName": 16,
    "lenType": 16,
    "lenVar": 40
   },
   "kernels_config": {
    "python": {
     "delete_cmd_postfix": "",
     "delete_cmd_prefix": "del ",
     "library": "var_list.py",
     "varRefreshCmd": "print(var_dic_list())"
    },
    "r": {
     "delete_cmd_postfix": ") ",
     "delete_cmd_prefix": "rm(",
     "library": "var_list.r",
     "varRefreshCmd": "cat(var_dic_list()) "
    }
   },
   "types_to_exclude": [
    "module",
    "function",
    "builtin_function_or_method",
    "instance",
    "_Feature"
   ],
   "window_display": false
  }
 },
 "nbformat": 4,
 "nbformat_minor": 4
}
