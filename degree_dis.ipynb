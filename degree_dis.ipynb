{
 "cells": [
  {
   "cell_type": "code",
   "execution_count": 1,
   "metadata": {
    "colab": {
     "base_uri": "https://localhost:8080/",
     "height": 124
    },
    "colab_type": "code",
    "id": "6l8BDWMZ7ZgV",
    "outputId": "045b8c74-83d7-4d3c-fd5e-b211009b948e"
   },
   "outputs": [
    {
     "name": "stdout",
     "output_type": "stream",
     "text": [
      "Go to this URL in a browser: https://accounts.google.com/o/oauth2/auth?client_id=947318989803-6bn6qk8qdgf4n4g3pfee6491hc0brc4i.apps.googleusercontent.com&redirect_uri=urn%3aietf%3awg%3aoauth%3a2.0%3aoob&response_type=code&scope=email%20https%3a%2f%2fwww.googleapis.com%2fauth%2fdocs.test%20https%3a%2f%2fwww.googleapis.com%2fauth%2fdrive%20https%3a%2f%2fwww.googleapis.com%2fauth%2fdrive.photos.readonly%20https%3a%2f%2fwww.googleapis.com%2fauth%2fpeopleapi.readonly\n",
      "\n",
      "Enter your authorization code:\n",
      "··········\n",
      "Mounted at /content/drive\n"
     ]
    }
   ],
   "source": [
    "from google.colab import drive\n",
    "drive.mount('/content/drive', force_remount=True)"
   ]
  },
  {
   "cell_type": "code",
   "execution_count": 32,
   "metadata": {
    "colab": {},
    "colab_type": "code",
    "id": "XFBv5gbZhfHc"
   },
   "outputs": [],
   "source": [
    "filepath = r'sample_ssca2_1m.gr'"
   ]
  },
  {
   "cell_type": "code",
   "execution_count": 33,
   "metadata": {
    "colab": {
     "base_uri": "https://localhost:8080/",
     "height": 34
    },
    "colab_type": "code",
    "id": "KlTpmvIW67Gk",
    "outputId": "c312e905-b604-4087-d561-e0af05f2e481"
   },
   "outputs": [
    {
     "name": "stdout",
     "output_type": "stream",
     "text": [
      "done\n"
     ]
    }
   ],
   "source": [
    "in_dict = {}\n",
    "out_dict = {}\n",
    "\n",
    "with open(filepath) as fp:\n",
    "  flag = False\n",
    "\n",
    "  line = fp.readline()\n",
    "  cnt = 1\n",
    "\n",
    "  while line:\n",
    "\n",
    "    line = fp.readline()\n",
    "    cnt += 1\n",
    "\n",
    "    line_list = line.split(\" \")\n",
    "    # print(line_list)\n",
    "    if len(line_list) < 4:\n",
    "      break\n",
    "   \n",
    "    if line_list[0] == 'p':\n",
    "      flag = True\n",
    "      continue\n",
    "    \n",
    "    if flag == False:\n",
    "      continue\n",
    "    \n",
    "    # print(\"Line {}: {}\".format(cnt, line.strip()))\n",
    "    out_node = int(line_list[1])\n",
    "    in_node = int(line_list[2])\n",
    "    weight = int(line_list[3])\n",
    "\n",
    "    if in_node not in in_dict:\n",
    "      in_dict[in_node] = 0\n",
    "    in_dict[in_node] += 1\n",
    "\n",
    "    if out_node not in out_dict:\n",
    "      out_dict[out_node] = 0\n",
    "    out_dict[out_node] += 1\n",
    "\n",
    "print(\"done\")\n"
   ]
  },
  {
   "cell_type": "code",
   "execution_count": 34,
   "metadata": {
    "colab": {},
    "colab_type": "code",
    "id": "s_AZLi5lOdef"
   },
   "outputs": [],
   "source": [
    "from pprint import pprint"
   ]
  },
  {
   "cell_type": "code",
   "execution_count": 35,
   "metadata": {
    "colab": {
     "base_uri": "https://localhost:8080/",
     "height": 34
    },
    "colab_type": "code",
    "id": "WMnmGodMOhLM",
    "outputId": "d019ef37-2e7e-4926-d390-3e98ce7075ac"
   },
   "outputs": [],
   "source": [
    "# pprint(sum(out_dict.values()))"
   ]
  },
  {
   "cell_type": "code",
   "execution_count": 36,
   "metadata": {
    "colab": {
     "base_uri": "https://localhost:8080/",
     "height": 52
    },
    "colab_type": "code",
    "id": "65MLXwWTPbkr",
    "outputId": "e97ddb19-45f0-4295-955e-ae41c2e72f47"
   },
   "outputs": [],
   "source": [
    "# import operator\n",
    "# max_k = max(out_dict.items(), key=operator.itemgetter(1))[0]\n",
    "# max_v = max(out_dict.items(), key=operator.itemgetter(1))[1]\n",
    "# print(max_k)\n",
    "# print(max_v)"
   ]
  },
  {
   "cell_type": "code",
   "execution_count": 37,
   "metadata": {
    "colab": {},
    "colab_type": "code",
    "id": "lh-1DlTKRBby"
   },
   "outputs": [],
   "source": [
    "import matplotlib.pyplot as plt"
   ]
  },
  {
   "cell_type": "code",
   "execution_count": 38,
   "metadata": {
    "colab": {},
    "colab_type": "code",
    "id": "Z2atvAm7TPy_"
   },
   "outputs": [],
   "source": [
    "import operator\n",
    "sorted_out_dict = sorted(out_dict.items(), key=operator.itemgetter(0))\n",
    "sorted_in_dict = sorted(in_dict.items(), key=operator.itemgetter(0))"
   ]
  },
  {
   "cell_type": "code",
   "execution_count": 39,
   "metadata": {
    "colab": {
     "base_uri": "https://localhost:8080/",
     "height": 54
    },
    "colab_type": "code",
    "id": "iyV_5toHTl5K",
    "outputId": "56d13af5-b7ec-44a2-8700-05411bf5cae3"
   },
   "outputs": [],
   "source": [
    "# print(sorted_out_dict)"
   ]
  },
  {
   "cell_type": "code",
   "execution_count": 40,
   "metadata": {
    "colab": {},
    "colab_type": "code",
    "id": "6MQShPptO1Zy"
   },
   "outputs": [],
   "source": [
    "out_degree_dict = {}\n",
    "in_degree_dict = {}\n",
    "\n",
    "\n",
    "\n",
    "for n, o in sorted_out_dict:\n",
    "\n",
    "  if o not in out_degree_dict:\n",
    "    out_degree_dict[o] = 0\n",
    "  out_degree_dict[o] += 1\n",
    "\n",
    "\n",
    "\n",
    "for n, o in sorted_in_dict:\n",
    "\n",
    "  if o not in in_degree_dict:\n",
    "    in_degree_dict[o] = 0\n",
    "  in_degree_dict[o] += 1\n"
   ]
  },
  {
   "cell_type": "code",
   "execution_count": 41,
   "metadata": {
    "colab": {
     "base_uri": "https://localhost:8080/",
     "height": 72
    },
    "colab_type": "code",
    "id": "twN5O4TzdVxL",
    "outputId": "79c51492-01d2-4777-8b95-9859912cec49"
   },
   "outputs": [
    {
     "name": "stdout",
     "output_type": "stream",
     "text": [
      "{14: 107110, 6: 57920, 15: 72272, 5: 49342, 13: 113714, 10: 91745, 3: 29729, 12: 108831, 11: 101395, 7: 65935, 17: 3285, 16: 18583, 4: 39707, 8: 74044, 9: 83289, 2: 19664, 1: 9215, 18: 342, 20: 2, 19: 32}\n",
      "{16: 18548, 2: 19758, 15: 72131, 13: 114051, 5: 49348, 14: 106685, 10: 91713, 4: 39838, 7: 65617, 12: 108654, 9: 83060, 8: 74313, 11: 101416, 6: 57870, 3: 29702, 1: 9264, 17: 3573, 18: 498, 19: 55, 21: 1, 20: 3}\n"
     ]
    }
   ],
   "source": [
    "print(out_degree_dict)\n",
    "print(in_degree_dict)"
   ]
  },
  {
   "cell_type": "code",
   "execution_count": 42,
   "metadata": {
    "colab": {},
    "colab_type": "code",
    "id": "YtZh9QRud8fk"
   },
   "outputs": [],
   "source": [
    "on = []\n",
    "ox = []\n",
    "oy = []\n",
    "\n",
    "point_sum = sum(out_degree_dict.values())\n",
    "\n",
    "for d,c in out_degree_dict.items():\n",
    "  on.append(d)\n",
    "  ox.append(c)\n",
    "  oy.append(c/point_sum)"
   ]
  },
  {
   "cell_type": "code",
   "execution_count": 43,
   "metadata": {
    "colab": {
     "base_uri": "https://localhost:8080/",
     "height": 89
    },
    "colab_type": "code",
    "id": "rCBi9ifenSZX",
    "outputId": "e9c8b638-0b73-4aa0-f6bb-e4b37005fab4"
   },
   "outputs": [
    {
     "name": "stdout",
     "output_type": "stream",
     "text": [
      "[14, 6, 15, 5, 13, 10, 3, 12, 11, 7, 17, 16, 4, 8, 9, 2, 1, 18, 20, 19]\n",
      "[107110, 57920, 72272, 49342, 113714, 91745, 29729, 108831, 101395, 65935, 3285, 18583, 39707, 74044, 83289, 19664, 9215, 342, 2, 32]\n",
      "[0.10238434803222464, 0.05536459189642845, 0.06908338718126168, 0.04716504995430892, 0.10869698209444863, 0.08769724591743487, 0.028417367964242428, 0.10402941817472729, 0.0969214916322231, 0.06302597318181992, 0.0031400670645678084, 0.01776312519356578, 0.037955142445294965, 0.07077720722339689, 0.0796143213822795, 0.01879643188969905, 0.00880843774733405, 0.0003269110916536348, 1.9117607699042974e-06, 3.058817231846876e-05]\n"
     ]
    }
   ],
   "source": [
    "print(on)\n",
    "print(ox)\n",
    "print(oy)"
   ]
  },
  {
   "cell_type": "code",
   "execution_count": 44,
   "metadata": {
    "colab": {
     "base_uri": "https://localhost:8080/",
     "height": 34
    },
    "colab_type": "code",
    "id": "70NAmcO_xkvL",
    "outputId": "f98a46a3-95d2-48af-a58f-e46903440495"
   },
   "outputs": [
    {
     "name": "stdout",
     "output_type": "stream",
     "text": [
      "1.0\n"
     ]
    }
   ],
   "source": [
    "print(sum(oy))"
   ]
  },
  {
   "cell_type": "code",
   "execution_count": 53,
   "metadata": {
    "colab": {
     "base_uri": "https://localhost:8080/",
     "height": 295
    },
    "colab_type": "code",
    "id": "UkpJj208V3dh",
    "outputId": "18a71aba-58ab-4e09-8b35-18accc6f96b5"
   },
   "outputs": [
    {
     "data": {
      "image/png": "[encoded data removed]",
      "text/plain": [
       "<Figure size 432x288 with 1 Axes>"
      ]
     },
     "metadata": {
      "needs_background": "light"
     },
     "output_type": "display_data"
    }
   ],
   "source": [
    "from matplotlib.ticker import MaxNLocator\n",
    "bins = sorted(on.copy())\n",
    "ax = plt.figure().gca()\n",
    "ax.xaxis.set_major_locator(MaxNLocator(integer=True))\n",
    "\n",
    "plt.plot(bins, [out_degree_dict[i]/sum(out_degree_dict.values()) for i in bins], 'r--')\n",
    "plt.bar(on,oy) # A bar chart\n",
    "plt.title('out degree distribution')\n",
    "plt.xlabel('out degree')\n",
    "plt.ylabel('proportion')\n",
    "\n",
    "\n",
    "plt.show()"
   ]
  },
  {
   "cell_type": "code",
   "execution_count": 46,
   "metadata": {
    "colab": {},
    "colab_type": "code",
    "id": "szuucaYKgz7M"
   },
   "outputs": [],
   "source": [
    "inn  = []\n",
    "inx = []\n",
    "iny = []\n",
    "\n",
    "point_sum = sum(in_degree_dict.values())\n",
    "\n",
    "for d,c in in_degree_dict.items():\n",
    "  inn.append(d)\n",
    "  inx.append(c)\n",
    "  iny.append(c/point_sum)"
   ]
  },
  {
   "cell_type": "code",
   "execution_count": 47,
   "metadata": {
    "colab": {
     "base_uri": "https://localhost:8080/",
     "height": 295
    },
    "colab_type": "code",
    "id": "OW-TwIwDhNnm",
    "outputId": "d797bfb6-591c-4c4a-a1bf-3aee636c7a8b"
   },
   "outputs": [
    {
     "data": {
      "image/png": "[encoded data removed]",
      "text/plain": [
       "<Figure size 432x288 with 1 Axes>"
      ]
     },
     "metadata": {
      "needs_background": "light"
     },
     "output_type": "display_data"
    }
   ],
   "source": [
    "bins = sorted(inn.copy())\n",
    "\n",
    "plt.bar(inn,iny) # A bar chart\n",
    "plt.plot(bins, [in_degree_dict[i]/sum(in_degree_dict.values()) for i in bins], 'r--')\n",
    "plt.title('in degree distribution')\n",
    "plt.xlabel('in degree')\n",
    "plt.ylabel('proportion')\n",
    "plt.show()"
   ]
  },
  {
   "cell_type": "code",
   "execution_count": null,
   "metadata": {},
   "outputs": [],
   "source": []
  }
 ],
 "metadata": {
  "colab": {
   "name": "degree_dis.ipynb",
   "provenance": []
  },
  "kernelspec": {
   "display_name": "Python 3",
   "language": "python",
   "name": "python3"
  },
  "language_info": {
   "codemirror_mode": {
    "name": "ipython",
    "version": 3
   },
   "file_extension": ".py",
   "mimetype": "text/x-python",
   "name": "python",
   "nbconvert_exporter": "python",
   "pygments_lexer": "ipython3",
   "version": "3.7.4"
  },
  "toc": {
   "base_numbering": 1,
   "nav_menu": {},
   "number_sections": true,
   "sideBar": true,
   "skip_h1_title": false,
   "title_cell": "Table of Contents",
   "title_sidebar": "Contents",
   "toc_cell": false,
   "toc_position": {},
   "toc_section_display": true,
   "toc_window_display": false
  },
  "varInspector": {
   "cols": {
    "lenName": 16,
    "lenType": 16,
    "lenVar": 40
   },
   "kernels_config": {
    "python": {
     "delete_cmd_postfix": "",
     "delete_cmd_prefix": "del ",
     "library": "var_list.py",
     "varRefreshCmd": "print(var_dic_list())"
    },
    "r": {
     "delete_cmd_postfix": ") ",
     "delete_cmd_prefix": "rm(",
     "library": "var_list.r",
     "varRefreshCmd": "cat(var_dic_list()) "
    }
   },
   "types_to_exclude": [
    "module",
    "function",
    "builtin_function_or_method",
    "instance",
    "_Feature"
   ],
   "window_display": false
  }
 },
 "nbformat": 4,
 "nbformat_minor": 1
}
